{
  "cells": [
    {
      "cell_type": "code",
      "source": [
        "# Import necessary libraries\n",
        "import numpy as np\n",
        "import pandas as pd\n",
        "from sklearn.datasets import load_breast_cancer\n",
        "from sklearn.cluster import KMeans\n",
        "from sklearn.metrics import adjusted_rand_score, homogeneity_score, completeness_score, v_measure_score, roc_curve\n",
        "from sklearn.model_selection import train_test_split\n",
        "from sklearn.discriminant_analysis import LinearDiscriminantAnalysis\n",
        "from sklearn.linear_model import LogisticRegression\n",
        "from sklearn.tree import DecisionTreeClassifier\n",
        "from sklearn.neighbors import KNeighborsClassifier\n",
        "from sklearn.ensemble import RandomForestClassifier, AdaBoostClassifier\n",
        "from sklearn.naive_bayes import GaussianNB\n",
        "from sklearn.metrics import balanced_accuracy_score, f1_score, roc_auc_score, accuracy_score\n",
        "import matplotlib.pyplot as plt\n",
        "from sklearn.cluster import SpectralClustering\n",
        "from sklearn.cluster import AgglomerativeClustering, AffinityPropagation\n",
        "from sklearn.cluster import MeanShift, estimate_bandwidth"
      ],
      "outputs": [],
      "execution_count": 28,
      "metadata": {
        "id": "wFbGVIJ53_3d"
      }
    },
    {
      "cell_type": "code",
      "source": [
        "# Load the breast cancer dataset\n",
        "data = load_breast_cancer()\n",
        "\n",
        "# Overview of the data\n",
        "print(\"Number of samples:\", data['target'].shape[0])\n",
        "print(\"Number of dimensions:\", data['data'].shape[1])\n",
        "print(\"Number of classes:\", len(np.unique(data['target'])))\n",
        "print(\"Names of classes:\", data['target_names'])\n",
        "print(\"Number of samples per class:\", np.bincount(data['target']))"
      ],
      "metadata": {
        "colab": {
          "base_uri": "https://localhost:8080/"
        },
        "id": "mfgvGxDK4qKG",
        "outputId": "9f802fcc-e2d1-4480-9adb-dd0cc587f52b"
      },
      "execution_count": 17,
      "outputs": [
        {
          "output_type": "stream",
          "name": "stdout",
          "text": [
            "Number of samples: 569\n",
            "Number of dimensions: 30\n",
            "Number of classes: 2\n",
            "Names of classes: ['malignant' 'benign']\n",
            "Number of samples per class: [212 357]\n"
          ]
        }
      ]
    },
    {
      "cell_type": "markdown",
      "source": [
        "# Clustering"
      ],
      "metadata": {
        "id": "bO4a6lzZ4rhE"
      }
    },
    {
      "cell_type": "code",
      "source": [
        "# Use KMeans to cluster the data into two clusters\n",
        "kmeans = KMeans(n_clusters=2)\n",
        "labels = kmeans.fit_predict(data['data'])\n",
        "\n",
        "# Evaluate the clustering results\n",
        "print(\"Adjusted Rand index:\", adjusted_rand_score(data['target'], labels))\n",
        "print(\"Homogeneity:\", homogeneity_score(data['target'], labels))\n",
        "print(\"Completeness:\", completeness_score(data['target'], labels))\n",
        "print(\"V-Measure:\", v_measure_score(data['target'], labels))"
      ],
      "metadata": {
        "colab": {
          "base_uri": "https://localhost:8080/"
        },
        "id": "pPtqrFCq5raZ",
        "outputId": "f50fbe3f-289c-4170-e9ee-d94762905e26"
      },
      "execution_count": 18,
      "outputs": [
        {
          "output_type": "stream",
          "name": "stderr",
          "text": [
            "/usr/local/lib/python3.10/dist-packages/sklearn/cluster/_kmeans.py:870: FutureWarning: The default value of `n_init` will change from 10 to 'auto' in 1.4. Set the value of `n_init` explicitly to suppress the warning\n",
            "  warnings.warn(\n"
          ]
        },
        {
          "output_type": "stream",
          "name": "stdout",
          "text": [
            "Adjusted Rand index: 0.49142453622455523\n",
            "Homogeneity: 0.4222907124699913\n",
            "Completeness: 0.5168089972809707\n",
            "V-Measure: 0.46479332792160805\n"
          ]
        }
      ]
    },
    {
      "cell_type": "code",
      "source": [
        "# AffinityPropagation\n",
        "# Use AffinityPropagation to cluster the data into two clusters\n",
        "affinity = AffinityPropagation()\n",
        "labels = affinity.fit_predict(data['data'])\n",
        "\n",
        "# Evaluate the clustering results\n",
        "print(\"Adjusted Rand index:\", adjusted_rand_score(data['target'], labels))\n",
        "print(\"Homogeneity:\", homogeneity_score(data['target'], labels))\n",
        "print(\"Completeness:\", completeness_score(data['target'], labels))\n",
        "print(\"V-Measure:\", v_measure_score(data['target'], labels))"
      ],
      "metadata": {
        "colab": {
          "base_uri": "https://localhost:8080/"
        },
        "id": "PGg8imKS6uo-",
        "outputId": "f6d74c86-89fd-4e85-9b76-246ff1186eef"
      },
      "execution_count": 20,
      "outputs": [
        {
          "output_type": "stream",
          "name": "stdout",
          "text": [
            "Adjusted Rand index: 0.23712032877816283\n",
            "Homogeneity: 0.6585513540163598\n",
            "Completeness: 0.21625522475760148\n",
            "V-Measure: 0.3255923641471126\n"
          ]
        },
        {
          "output_type": "stream",
          "name": "stderr",
          "text": [
            "/usr/local/lib/python3.10/dist-packages/sklearn/cluster/_affinity_propagation.py:143: ConvergenceWarning: Affinity propagation did not converge, this model may return degenerate cluster centers and labels.\n",
            "  warnings.warn(\n"
          ]
        }
      ]
    },
    {
      "cell_type": "code",
      "source": [
        "# MeanShift\n",
        "# Use MeanShift to cluster the data into two clusters\n",
        "meanshift = MeanShift()\n",
        "labels = meanshift.fit_predict(data['data'])\n",
        "\n",
        "# Evaluate the clustering results\n",
        "print(\"Adjusted Rand index:\", adjusted_rand_score(data['target'], labels))\n",
        "print(\"Homogeneity:\", homogeneity_score(data['target'], labels))\n",
        "print(\"Completeness:\", completeness_score(data['target'], labels))\n",
        "print(\"V-Measure:\", v_measure_score(data['target'], labels))"
      ],
      "metadata": {
        "colab": {
          "base_uri": "https://localhost:8080/"
        },
        "id": "aG9bC_kg6wH-",
        "outputId": "47d85e12-b10a-4a24-d724-98993e82e702"
      },
      "execution_count": 21,
      "outputs": [
        {
          "output_type": "stream",
          "name": "stdout",
          "text": [
            "Adjusted Rand index: 0.5528955767952657\n",
            "Homogeneity: 0.5024830485311966\n",
            "Completeness: 0.43379588382762635\n",
            "V-Measure: 0.4656199570716239\n"
          ]
        }
      ]
    },
    {
      "cell_type": "code",
      "source": [
        "# AgglomerativeClustering\n",
        "# Use AgglomerativeClustering to cluster the data into two clusters\n",
        "agglomerative = AgglomerativeClustering(n_clusters=2)\n",
        "labels = agglomerative.fit_predict(data['data'])\n",
        "\n",
        "# Evaluate the clustering results\n",
        "print(\"Adjusted Rand index:\", adjusted_rand_score(data['target'], labels))\n",
        "print(\"Homogeneity:\", homogeneity_score(data['target'], labels))\n",
        "print(\"Completeness:\", completeness_score(data['target'], labels))\n",
        "print(\"V-Measure:\", v_measure_score(data['target'], labels))"
      ],
      "metadata": {
        "colab": {
          "base_uri": "https://localhost:8080/"
        },
        "id": "7pIoJw7Q6z0Q",
        "outputId": "138784b4-b188-4bc8-9f03-afedda75f600"
      },
      "execution_count": 22,
      "outputs": [
        {
          "output_type": "stream",
          "name": "stdout",
          "text": [
            "Adjusted Rand index: 0.2872456066095377\n",
            "Homogeneity: 0.26215041159208424\n",
            "Completeness: 0.40760091453790204\n",
            "V-Measure: 0.31908185424236946\n"
          ]
        }
      ]
    },
    {
      "cell_type": "markdown",
      "source": [
        "# Classification"
      ],
      "metadata": {
        "id": "jlpYiIoz4umF"
      }
    },
    {
      "cell_type": "code",
      "source": [
        "# Split the data into training and testing sets\n",
        "X_train, X_test, y_train, y_test = train_test_split(data['data'], data['target'], test_size=0.2)\n",
        "\n",
        "# Evaluate all classification methods\n",
        "for clf in [LinearDiscriminantAnalysis(), LogisticRegression(), DecisionTreeClassifier(), KNeighborsClassifier(), RandomForestClassifier(), AdaBoostClassifier(), GaussianNB()]:\n",
        "    clf.fit(X_train, y_train)\n",
        "    y_pred = clf.predict(X_test)\n",
        "    print(clf.__class__.__name__, \"Accuracy:\", accuracy_score(y_test, y_pred))\n",
        "    print(clf.__class__.__name__, \"F1-score:\", f1_score(y_test, y_pred))\n",
        "    print(clf.__class__.__name__, \"ROC AUC:\", roc_auc_score(y_test, y_pred))"
      ],
      "metadata": {
        "colab": {
          "base_uri": "https://localhost:8080/"
        },
        "id": "qHEyYkB-5_kI",
        "outputId": "8412f806-cf33-47c1-e7fa-c52a4892defb"
      },
      "execution_count": 29,
      "outputs": [
        {
          "output_type": "stream",
          "name": "stdout",
          "text": [
            "LinearDiscriminantAnalysis Accuracy: 0.9385964912280702\n",
            "LinearDiscriminantAnalysis F1-score: 0.9496402877697842\n",
            "LinearDiscriminantAnalysis ROC AUC: 0.9309462915601023\n",
            "LogisticRegression Accuracy: 0.9298245614035088\n",
            "LogisticRegression F1-score: 0.943661971830986\n",
            "LogisticRegression ROC AUC: 0.9165601023017902\n",
            "DecisionTreeClassifier Accuracy: 0.9210526315789473\n",
            "DecisionTreeClassifier F1-score: 0.9352517985611511\n",
            "DecisionTreeClassifier ROC AUC: 0.9127237851662404\n"
          ]
        },
        {
          "output_type": "stream",
          "name": "stderr",
          "text": [
            "/usr/local/lib/python3.10/dist-packages/sklearn/linear_model/_logistic.py:458: ConvergenceWarning: lbfgs failed to converge (status=1):\n",
            "STOP: TOTAL NO. of ITERATIONS REACHED LIMIT.\n",
            "\n",
            "Increase the number of iterations (max_iter) or scale the data as shown in:\n",
            "    https://scikit-learn.org/stable/modules/preprocessing.html\n",
            "Please also refer to the documentation for alternative solver options:\n",
            "    https://scikit-learn.org/stable/modules/linear_model.html#logistic-regression\n",
            "  n_iter_i = _check_optimize_result(\n"
          ]
        },
        {
          "output_type": "stream",
          "name": "stdout",
          "text": [
            "KNeighborsClassifier Accuracy: 0.9298245614035088\n",
            "KNeighborsClassifier F1-score: 0.9420289855072465\n",
            "KNeighborsClassifier ROC AUC: 0.9235933503836318\n",
            "RandomForestClassifier Accuracy: 0.9473684210526315\n",
            "RandomForestClassifier F1-score: 0.9571428571428572\n",
            "RandomForestClassifier ROC AUC: 0.9382992327365729\n",
            "AdaBoostClassifier Accuracy: 0.9649122807017544\n",
            "AdaBoostClassifier F1-score: 0.9710144927536232\n",
            "AdaBoostClassifier ROC AUC: 0.9600383631713555\n",
            "GaussianNB Accuracy: 0.9473684210526315\n",
            "GaussianNB F1-score: 0.9577464788732395\n",
            "GaussianNB ROC AUC: 0.9347826086956521\n"
          ]
        }
      ]
    },
    {
      "cell_type": "code",
      "source": [
        "for clf in [LinearDiscriminantAnalysis(), LogisticRegression(), DecisionTreeClassifier(), KNeighborsClassifier(), RandomForestClassifier(), AdaBoostClassifier(), GaussianNB()]:\n",
        "    clf.fit(X_train, y_train)\n",
        "    y_score = clf.predict_proba(X_test)[:, 1]\n",
        "    fpr, tpr, thresholds = roc_curve(y_test, y_score)\n",
        "    plt.plot(fpr, tpr, label=clf.__class__.__name__)\n",
        "\n",
        "plt.xlabel('False positive rate')\n",
        "plt.ylabel('True positive rate')\n",
        "plt.legend()\n",
        "plt.show()"
      ],
      "metadata": {
        "colab": {
          "base_uri": "https://localhost:8080/",
          "height": 595
        },
        "id": "OXqAMCJ-4xKA",
        "outputId": "d4d981ba-8d69-4c75-8c86-0834576319ca"
      },
      "execution_count": 30,
      "outputs": [
        {
          "output_type": "stream",
          "name": "stderr",
          "text": [
            "/usr/local/lib/python3.10/dist-packages/sklearn/linear_model/_logistic.py:458: ConvergenceWarning: lbfgs failed to converge (status=1):\n",
            "STOP: TOTAL NO. of ITERATIONS REACHED LIMIT.\n",
            "\n",
            "Increase the number of iterations (max_iter) or scale the data as shown in:\n",
            "    https://scikit-learn.org/stable/modules/preprocessing.html\n",
            "Please also refer to the documentation for alternative solver options:\n",
            "    https://scikit-learn.org/stable/modules/linear_model.html#logistic-regression\n",
            "  n_iter_i = _check_optimize_result(\n"
          ]
        },
        {
          "output_type": "display_data",
          "data": {
            "text/plain": [
              "<Figure size 640x480 with 1 Axes>"
            ],
            "image/png": "[encoded data removed]"
          },
          "metadata": {}
        }
      ]
    }
  ],
  "metadata": {
    "colab": {
      "provenance": []
    },
    "kernelspec": {
      "display_name": "Python 3",
      "name": "python3"
    }
  },
  "nbformat": 4,
  "nbformat_minor": 0
}